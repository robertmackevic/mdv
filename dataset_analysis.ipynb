{
 "cells": [
  {
   "cell_type": "code",
   "execution_count": null,
   "metadata": {},
   "outputs": [],
   "source": [
    "import numpy as np\n",
    "import pandas as pd\n",
    "import seaborn\n",
    "from matplotlib import pyplot as plt\n",
    "from ucimlrepo import fetch_ucirepo\n",
    "from matplotlib.cm import ScalarMappable"
   ]
  },
  {
   "cell_type": "code",
   "execution_count": null,
   "metadata": {},
   "outputs": [],
   "source": [
    "concrete_compressive_strength = fetch_ucirepo(id=165)\n",
    "concrete_compressive_strength.variables"
   ]
  },
  {
   "cell_type": "code",
   "execution_count": null,
   "metadata": {},
   "outputs": [],
   "source": [
    "features = concrete_compressive_strength.data.features\n",
    "targets = concrete_compressive_strength.data.targets\n",
    "data = pd.concat([features, targets], axis=1)\n",
    "data"
   ]
  },
  {
   "cell_type": "code",
   "execution_count": null,
   "metadata": {},
   "outputs": [],
   "source": [
    "data.describe().round(2)"
   ]
  },
  {
   "cell_type": "code",
   "execution_count": null,
   "metadata": {},
   "outputs": [],
   "source": [
    "data.hist(\n",
    "    figsize=(16, 10),\n",
    "    edgecolor=\"black\",\n",
    ");"
   ]
  },
  {
   "cell_type": "code",
   "execution_count": null,
   "metadata": {},
   "outputs": [],
   "source": [
    "data.plot(\n",
    "    figsize=(16, 10),\n",
    "    legend=False,\n",
    ");"
   ]
  },
  {
   "cell_type": "code",
   "execution_count": null,
   "metadata": {},
   "outputs": [],
   "source": [
    "norm_data = (data - data.mean()) / data.std()\n",
    "norm_data"
   ]
  },
  {
   "cell_type": "code",
   "execution_count": null,
   "metadata": {},
   "outputs": [],
   "source": [
    "norm_data.describe().round(2)"
   ]
  },
  {
   "cell_type": "code",
   "execution_count": null,
   "metadata": {},
   "outputs": [],
   "source": [
    "norm_data.plot(\n",
    "    figsize=(16, 10),\n",
    "    legend=False,\n",
    ");"
   ]
  },
  {
   "cell_type": "code",
   "execution_count": null,
   "metadata": {
    "collapsed": false
   },
   "outputs": [],
   "source": [
    "# Scatter plot matrix\n",
    "seaborn.pairplot(data, markers=\"o\");"
   ]
  },
  {
   "cell_type": "code",
   "execution_count": null,
   "metadata": {
    "collapsed": false
   },
   "outputs": [],
   "source": [
    "corr_matrix = data.corr()\n",
    "mask = np.triu(corr_matrix)\n",
    "plt.figure(figsize=(16, 12))\n",
    "seaborn.heatmap(corr_matrix, annot=True, mask=mask, cmap=\"bwr\")\n",
    "plt.title('Correlation Matrix');"
   ]
  },
  {
   "cell_type": "code",
   "execution_count": null,
   "metadata": {
    "collapsed": false
   },
   "outputs": [],
   "source": [
    "data_sorted = norm_data.sort_values(by=\"Concrete compressive strength\")\n",
    "_, ax = plt.subplots(figsize=(16, 10))\n",
    "\n",
    "pd.plotting.andrews_curves(data_sorted, \"Concrete compressive strength\", colormap=\"RdYlGn\", ax=ax)\n",
    "sm = ScalarMappable(cmap=\"RdYlGn\")\n",
    "sm.set_array(data_sorted[\"Concrete compressive strength\"])\n",
    "plt.colorbar(sm, label=\"Concrete compressive strength\", ax=ax)\n",
    "\n",
    "plt.legend().remove();"
   ]
  },
  {
   "cell_type": "code",
   "execution_count": null,
   "metadata": {
    "collapsed": false
   },
   "outputs": [],
   "source": [
    "data_sorted = norm_data.sort_values(by=\"Concrete compressive strength\")\n",
    "_, ax = plt.subplots(figsize=(16, 10))\n",
    "\n",
    "data_sorted[\"Strength Category\"] = pd.cut(\n",
    "    data_sorted[\"Concrete compressive strength\"],\n",
    "    bins=[-float(\"inf\"), -1, 1, float(\"inf\")],\n",
    "    labels=[\"Low\", \"Mid\", \"High\"]\n",
    ")\n",
    "\n",
    "pd.plotting.andrews_curves(data_sorted, \"Strength Category\", colormap=\"RdYlGn\", ax=ax)\n",
    "sm = ScalarMappable(cmap=\"RdYlGn\")\n",
    "sm.set_array(data_sorted[\"Concrete compressive strength\"])\n",
    "plt.colorbar(sm, label=\"Concrete compressive strength\", ax=ax)\n",
    "\n",
    "plt.legend().remove();"
   ]
  },
  {
   "cell_type": "code",
   "execution_count": null,
   "metadata": {
    "collapsed": false
   },
   "outputs": [],
   "source": [
    "data_sorted = norm_data.sort_values(by=\"Concrete compressive strength\")\n",
    "_, ax = plt.subplots(figsize=(16, 10))\n",
    "\n",
    "pd.plotting.parallel_coordinates(data_sorted, \"Concrete compressive strength\", colormap=\"RdYlGn\", ax=ax)\n",
    "sm = ScalarMappable(cmap=\"RdYlGn\")\n",
    "sm.set_array(data_sorted[\"Concrete compressive strength\"])\n",
    "plt.colorbar(sm, label=\"Concrete compressive strength\", ax=ax)\n",
    "\n",
    "plt.legend().remove();"
   ]
  },
  {
   "cell_type": "code",
   "execution_count": null,
   "metadata": {
    "collapsed": false
   },
   "outputs": [],
   "source": [
    "data_sorted = norm_data.sort_values(by=\"Concrete compressive strength\")\n",
    "_, ax = plt.subplots(figsize=(16, 10))\n",
    "\n",
    "data_sorted[\"Strength Category\"] = pd.cut(\n",
    "    data_sorted[\"Concrete compressive strength\"],\n",
    "    bins=[-float(\"inf\"), -1, 1, float(\"inf\")],\n",
    "    labels=[\"Low\", \"Mid\", \"High\"]\n",
    ")\n",
    "\n",
    "pd.plotting.parallel_coordinates(\n",
    "    data_sorted.drop([\"Concrete compressive strength\"], axis=1),\n",
    "    \"Strength Category\", colormap=\"RdYlGn\", ax=ax\n",
    ")\n",
    "\n",
    "sm = ScalarMappable(cmap=\"RdYlGn\")\n",
    "sm.set_array(data_sorted[\"Concrete compressive strength\"])\n",
    "plt.colorbar(sm, label=\"Concrete compressive strength\", ax=ax)\n",
    "\n",
    "plt.legend().remove();"
   ]
  },
  {
   "cell_type": "code",
   "execution_count": null,
   "metadata": {},
   "outputs": [],
   "source": [
    "for column in data.columns[:-1]:\n",
    "    seaborn.jointplot(x=column, y=\"Concrete compressive strength\", data=norm_data, kind=\"reg\")\n",
    "    plt.show()"
   ]
  }
 ],
 "metadata": {
  "kernelspec": {
   "display_name": "viz",
   "language": "python",
   "name": "python3"
  },
  "language_info": {
   "codemirror_mode": {
    "name": "ipython",
    "version": 3
   },
   "file_extension": ".py",
   "mimetype": "text/x-python",
   "name": "python",
   "nbconvert_exporter": "python",
   "pygments_lexer": "ipython3",
   "version": "3.12.1"
  }
 },
 "nbformat": 4,
 "nbformat_minor": 2
}
